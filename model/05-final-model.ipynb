{
 "cells": [
  {
   "cell_type": "markdown",
   "metadata": {},
   "source": [
    "# IGP 5 Models - Final Models\n",
    "\n"
   ]
  },
  {
   "cell_type": "code",
   "execution_count": 37,
   "metadata": {},
   "outputs": [],
   "source": [
    "# read from csv\n",
    "male_X_train_scaled = pd.read_csv(output_csv_path + 'male_X_train_scaled.csv')\n",
    "male_y_train = pd.read_csv(output_csv_path + 'male_y_train.csv').iloc[:, 0]\n",
    "female_X_train_scaled = pd.read_csv(output_csv_path + 'female_X_train_scaled.csv')\n",
    "female_y_train = pd.read_csv(output_csv_path + 'female_y_train.csv').iloc[:, 0]\n",
    "both_X_train_scaled = pd.read_csv(output_csv_path + 'both_X_train_scaled.csv')\n",
    "both_y_train = pd.read_csv(output_csv_path + 'both_y_train.csv').iloc[:, 0]"
   ]
  },
  {
   "cell_type": "code",
   "execution_count": 3,
   "metadata": {},
   "outputs": [],
   "source": [
    "# load functions in python file with magic command\n",
    "%run ../code/final-model.py\n",
    "\n",
    "output_csv_path = '../output/'"
   ]
  },
  {
   "cell_type": "markdown",
   "metadata": {},
   "source": [
    "## Male Dataset\n",
    "\n",
    "Final models:\n",
    "\n",
    "* Three features: `('SVM rbf', SVC(kernel='rbf', random_state=RANDOM_STATE))`\n",
    "* Two features: `('LightGBM', LGBMClassifier(verbose=-1, random_state=RANDOM_STATE))`\n"
   ]
  },
  {
   "cell_type": "markdown",
   "metadata": {},
   "source": [
    "### Male Two Feature Model - LightGBM"
   ]
  },
  {
   "cell_type": "code",
   "execution_count": 10,
   "metadata": {},
   "outputs": [],
   "source": [
    "# drop cols\n",
    "male_X_train_scaled_2 = male_X_train_scaled.iloc[:, [2, 3]]\n",
    "\n",
    "# copy X, y\n",
    "X = male_X_train_scaled_2.copy()\n",
    "y = male_y_train.copy()"
   ]
  },
  {
   "cell_type": "code",
   "execution_count": 21,
   "metadata": {},
   "outputs": [
    {
     "name": "stdout",
     "output_type": "stream",
     "text": [
      "Fitting 5 folds for each of 100 candidates, totalling 500 fits\n",
      "Best parameters:  {'reg_lambda': 0.0, 'reg_alpha': 0.1, 'num_leaves': 30, 'n_estimators': 500, 'min_data_in_leaf': 30, 'max_depth': 8, 'learning_rate': 0.01, 'feature_fraction': 1.0, 'bagging_fraction': 0.6}\n",
      "Best accuracy score:  0.8706821480406386\n",
      "Best MCC score:  0.7518275775629697\n"
     ]
    }
   ],
   "source": [
    "# parameters\n",
    "param_distributions = {\n",
    "    'max_depth': [2, 4, 6, 8, 10],\n",
    "    'learning_rate': [0.001, 0.01, 0.1],\n",
    "    'n_estimators': [100, 200, 300, 500],\n",
    "    'num_leaves': [20, 30, 40],\n",
    "    'min_data_in_leaf': [20, 30, 40],\n",
    "    'feature_fraction': [0.6, 0.8, 1.0],\n",
    "    'bagging_fraction': [0.6, 0.8, 1.0],\n",
    "    'reg_alpha': [0.0, 0.1, 1.0],\n",
    "    'reg_lambda': [0.0, 0.1, 1.0]\n",
    "}\n",
    "\n",
    "\n",
    "\n",
    "# custom scorer for MCC\n",
    "mcc_scorer = make_scorer(matthews_corrcoef)\n",
    "\n",
    "random_search = RandomizedSearchCV(estimator=lgbm_clf,\n",
    "                                   param_distributions=param_distributions,\n",
    "                                   scoring={'accuracy': 'accuracy', 'mcc': mcc_scorer},\n",
    "                                   refit='mcc',\n",
    "                                   cv=5,\n",
    "                                   n_iter=100,  # random parameter combinations\n",
    "                                   n_jobs=-1,\n",
    "                                   verbose=1,\n",
    "                                   random_state=RANDOM_STATE)\n",
    "\n",
    "\n",
    "\n",
    "# fit random GridSearchCV \n",
    "random_search.fit(X, y) \n",
    "\n",
    "# print best parameters and scores\n",
    "print(\"Best parameters: \", random_search.best_params_)\n",
    "print(\"Best accuracy score: \", random_search.cv_results_['mean_test_accuracy'][random_search.best_index_])\n",
    "print(\"Best MCC score: \", random_search.cv_results_['mean_test_mcc'][random_search.best_index_])"
   ]
  },
  {
   "cell_type": "markdown",
   "metadata": {},
   "source": [
    "**Best parameters:**\n",
    "\n",
    "* Using `accuracy` and `MCC`\n",
    "* So many parameters - chose these, in a randomised approach:\n",
    "  * max_depth - depth of tree in ensemble; risk of overfitting if too high\n",
    "  * learning_rate - shrinkage rate; step size of each iteration\n",
    "  * n_estimators - number of decision treesto include\n",
    "  * num_leaves - max umber of terminal nodes; too many can lead to overfitting\n",
    "  * min_data_in_leaf - min number data points in leaf; can help prevent overfitting\n",
    "  * feature_fraction - fraction of features to randomly select for each tree; value less than 1 can reduce overfitting and improve generalisation\n",
    "  * bagging_fraction- fraction of data instance to be randomly sampled - can help reduce overfitting\n",
    "  * reg_alpha - regularisation (Lasso) - penalty to objective function to reduce overfitting. \n",
    "  * reg_lambda - ridge regularisation - penalty to objective function to reduce overfitting"
   ]
  },
  {
   "cell_type": "code",
   "execution_count": 22,
   "metadata": {},
   "outputs": [
    {
     "data": {
      "text/plain": [
       "['male_2_feature_lgbm_model.pkl']"
      ]
     },
     "execution_count": 22,
     "metadata": {},
     "output_type": "execute_result"
    }
   ],
   "source": [
    "# best estimator from the grid search\n",
    "best_estimator = random_search.best_estimator_\n",
    "\n",
    "# save the model to a file\n",
    "joblib.dump(best_estimator, 'male_2_feature_lgbm_model.pkl')"
   ]
  },
  {
   "cell_type": "code",
   "execution_count": null,
   "metadata": {},
   "outputs": [],
   "source": [
    "# load the saved model\n",
    "loaded_model = joblib.load('male_2_feature_lgbm_model.pkl')\n",
    "\n",
    "# loaded model for prediction\n",
    "new_data = \n",
    "predictions = loaded_model.predict(new_data)"
   ]
  },
  {
   "cell_type": "markdown",
   "metadata": {},
   "source": [
    "### Male Three Feature Model - SVC rbf"
   ]
  },
  {
   "cell_type": "code",
   "execution_count": 18,
   "metadata": {},
   "outputs": [],
   "source": [
    "# drop cols\n",
    "male_X_train_scaled_3 = male_X_train_scaled.iloc[:, [2, 3,9]]\n",
    "\n",
    "# copy X, y\n",
    "X = male_X_train_scaled_3.copy()\n",
    "y = male_y_train.copy()"
   ]
  },
  {
   "cell_type": "code",
   "execution_count": 35,
   "metadata": {},
   "outputs": [
    {
     "name": "stderr",
     "output_type": "stream",
     "text": [
      "c:\\Users\\zoona\\Anaconda3\\envs\\igp5_env\\lib\\site-packages\\sklearn\\model_selection\\_search.py:318: UserWarning: The total space of parameters 30 is smaller than n_iter=100. Running 30 iterations. For exhaustive searches, use GridSearchCV.\n",
      "  warnings.warn(\n"
     ]
    },
    {
     "name": "stdout",
     "output_type": "stream",
     "text": [
      "Fitting 5 folds for each of 30 candidates, totalling 150 fits\n",
      "Best parameters:  {'kernel': 'rbf', 'gamma': 1, 'C': 100}\n",
      "Best accuracy score:  0.8936865021770684\n",
      "Best MCC score:  0.7895879188980575\n"
     ]
    }
   ],
   "source": [
    "# parameter distributions\n",
    "param_distributions = {\n",
    "    'C': [0.1, 1, 10, 100, 500],\n",
    "    'gamma': [0.001, 0.01, 0.1, 1, 10, 100],\n",
    "    'kernel': ['rbf'],\n",
    "    #'degree': [2, 3, 4],  # polynomial kernel\n",
    "    #'coef0': [0.0, 0.1, 0.5, 1.0]  # polynomial and sigmoid kernels\n",
    "}\n",
    "\n",
    "# custom scorer for MCC\n",
    "mcc_scorer = make_scorer(matthews_corrcoef)\n",
    "\n",
    "# SVC classifier\n",
    "svc = SVC(random_state=RANDOM_STATE)\n",
    "\n",
    "# RandomizedSearchCV object\n",
    "random_search = RandomizedSearchCV(estimator=svc,\n",
    "                                   param_distributions=param_distributions,\n",
    "                                   scoring={'accuracy': 'accuracy', 'mcc': mcc_scorer},\n",
    "                                   refit='mcc',  # refit for MCC\n",
    "                                   cv=5,\n",
    "                                   n_iter=100,\n",
    "                                   n_jobs=-1,\n",
    "                                   verbose=1,\n",
    "                                   random_state=RANDOM_STATE)\n",
    "\n",
    "# fit the RandomizedSearchCV \n",
    "random_search.fit(X, y)\n",
    "\n",
    "# print the best parameters and scores\n",
    "print(\"Best parameters: \", random_search.best_params_)\n",
    "print(\"Best accuracy score: \", random_search.cv_results_['mean_test_accuracy'][random_search.best_index_])\n",
    "print(\"Best MCC score: \", random_search.cv_results_['mean_test_mcc'][random_search.best_index_])"
   ]
  },
  {
   "cell_type": "code",
   "execution_count": 36,
   "metadata": {},
   "outputs": [
    {
     "data": {
      "text/plain": [
       "['male_3_feature_svc_model.pkl']"
      ]
     },
     "execution_count": 36,
     "metadata": {},
     "output_type": "execute_result"
    }
   ],
   "source": [
    "# best estimator from the grid search\n",
    "best_estimator = random_search.best_estimator_\n",
    "\n",
    "# save the model to a file\n",
    "joblib.dump(best_estimator, 'male_3_feature_svc_model.pkl')"
   ]
  },
  {
   "cell_type": "markdown",
   "metadata": {},
   "source": [
    "**Best Parameters**\n",
    "* C - regularisation parameter in SVM; manages trade-off between good margin and minimising training error\n",
    "* gamma - kernel coefficent which affects influence of each training example on decision boundary\n",
    "* kernel - which kernel function to use\n",
    "  * rbf - radial basis function \n",
    "  * poly - polynomial\n",
    "  * sigmoid - sigmoid\n"
   ]
  },
  {
   "cell_type": "markdown",
   "metadata": {},
   "source": [
    "## Female - \n",
    "\n",
    "Two and three feature: ('Gradient Boosting', GradientBoostingClassifier(random_state=RANDOM_STATE))\n",
    "\n"
   ]
  },
  {
   "cell_type": "markdown",
   "metadata": {},
   "source": [
    "### Female Two Feature model - Gradient Boosting"
   ]
  },
  {
   "cell_type": "code",
   "execution_count": 44,
   "metadata": {},
   "outputs": [],
   "source": [
    "# drop cols\n",
    "female_X_train_scaled_2 = female_X_train_scaled.iloc[:, [2, 3]]\n",
    "\n",
    "# copy X, y\n",
    "X = female_X_train_scaled_2.copy()\n",
    "y = female_y_train.copy()"
   ]
  },
  {
   "cell_type": "code",
   "execution_count": 45,
   "metadata": {},
   "outputs": [
    {
     "name": "stdout",
     "output_type": "stream",
     "text": [
      "Fitting 5 folds for each of 100 candidates, totalling 500 fits\n"
     ]
    },
    {
     "name": "stdout",
     "output_type": "stream",
     "text": [
      "Best parameters:  {'subsample': 0.8, 'n_estimators': 300, 'min_samples_split': 10, 'min_samples_leaf': 4, 'max_leaf_nodes': None, 'max_features': 'log2', 'max_depth': 3, 'learning_rate': 0.05}\n",
      "Best accuracy score:  0.8215384615384614\n",
      "Best MCC score:  0.6076134037640286\n"
     ]
    }
   ],
   "source": [
    "from sklearn.ensemble import GradientBoostingClassifier\n",
    "\n",
    "# parameter distributions\n",
    "param_distributions = {\n",
    "    'n_estimators': [100, 200, 300, 500],\n",
    "    'max_depth': [3, 5, 7, 9],\n",
    "    'min_samples_split': [2, 5, 10],\n",
    "    'min_samples_leaf': [1, 2, 4],\n",
    "    'max_features': ['sqrt', 'log2', None],\n",
    "    'learning_rate': [0.01, 0.05, 0.1, 0.2],\n",
    "    'subsample': [0.6, 0.8, 1.0],\n",
    "    'max_leaf_nodes': [10, 20, 30, None]\n",
    "}\n",
    "\n",
    "#  scorer for MCC\n",
    "mcc_scorer = make_scorer(matthews_corrcoef)\n",
    "\n",
    "# Gradient Boosting Classifier\n",
    "gbc = GradientBoostingClassifier(random_state=RANDOM_STATE)\n",
    "\n",
    "# RandomizedSearchCV \n",
    "random_search = RandomizedSearchCV(estimator=gbc,\n",
    "                                   param_distributions=param_distributions,\n",
    "                                   scoring={'accuracy': 'accuracy', 'mcc': mcc_scorer},\n",
    "                                   refit='mcc',  # refit MCC metric\n",
    "                                   cv=5,\n",
    "                                   n_iter=100,\n",
    "                                   n_jobs=-1,\n",
    "                                   verbose=1,\n",
    "                                   random_state=RANDOM_STATE)\n",
    "\n",
    "# fit RandomizedSearchCV \n",
    "random_search.fit(X, y)\n",
    "\n",
    "# print best parameters \n",
    "print(\"Best parameters: \", random_search.best_params_)\n",
    "print(\"Best accuracy score: \", random_search.cv_results_['mean_test_accuracy'][random_search.best_index_])\n",
    "print(\"Best MCC score: \", random_search.cv_results_['mean_test_mcc'][random_search.best_index_])"
   ]
  },
  {
   "cell_type": "code",
   "execution_count": 46,
   "metadata": {},
   "outputs": [
    {
     "data": {
      "text/plain": [
       "['female_2_feature_gradboost_model.pkl']"
      ]
     },
     "execution_count": 46,
     "metadata": {},
     "output_type": "execute_result"
    }
   ],
   "source": [
    "# best estimator from the grid search\n",
    "best_estimator = random_search.best_estimator_\n",
    "\n",
    "# save the model to a file\n",
    "joblib.dump(best_estimator, 'female_2_feature_gradboost_model.pkl')"
   ]
  },
  {
   "cell_type": "markdown",
   "metadata": {},
   "source": [
    "### Female three features - Gradient Boosting"
   ]
  },
  {
   "cell_type": "code",
   "execution_count": 47,
   "metadata": {},
   "outputs": [],
   "source": [
    "# drop cols\n",
    "female_X_train_scaled_3 = female_X_train_scaled.iloc[:, [2, 3, 5]]\n",
    "\n",
    "# copy X, y\n",
    "X = female_X_train_scaled_3.copy()\n",
    "y = female_y_train.copy()"
   ]
  },
  {
   "cell_type": "code",
   "execution_count": 48,
   "metadata": {},
   "outputs": [
    {
     "name": "stdout",
     "output_type": "stream",
     "text": [
      "Fitting 5 folds for each of 100 candidates, totalling 500 fits\n",
      "Best parameters:  {'subsample': 0.8, 'n_estimators': 500, 'min_samples_split': 2, 'min_samples_leaf': 1, 'max_leaf_nodes': 10, 'max_features': 'sqrt', 'max_depth': 9, 'learning_rate': 0.01}\n",
      "Best accuracy score:  0.8584615384615384\n",
      "Best MCC score:  0.6834695166779801\n"
     ]
    }
   ],
   "source": [
    "from sklearn.ensemble import GradientBoostingClassifier\n",
    "\n",
    "# parameter distributions\n",
    "param_distributions = {\n",
    "    'n_estimators': [100, 200, 300, 500],\n",
    "    'max_depth': [3, 5, 7, 9],\n",
    "    'min_samples_split': [2, 5, 10],\n",
    "    'min_samples_leaf': [1, 2, 4],\n",
    "    'max_features': ['sqrt', 'log2', None],\n",
    "    'learning_rate': [0.01, 0.05, 0.1, 0.2],\n",
    "    'subsample': [0.6, 0.8, 1.0],\n",
    "    'max_leaf_nodes': [10, 20, 30, None]\n",
    "}\n",
    "\n",
    "#  scorer for MCC\n",
    "mcc_scorer = make_scorer(matthews_corrcoef)\n",
    "\n",
    "# Gradient Boosting Classifier\n",
    "gbc = GradientBoostingClassifier(random_state=RANDOM_STATE)\n",
    "\n",
    "# RandomizedSearchCV \n",
    "random_search = RandomizedSearchCV(estimator=gbc,\n",
    "                                   param_distributions=param_distributions,\n",
    "                                   scoring={'accuracy': 'accuracy', 'mcc': mcc_scorer},\n",
    "                                   refit='mcc',  # refit MCC metric\n",
    "                                   cv=5,\n",
    "                                   n_iter=100,\n",
    "                                   n_jobs=-1,\n",
    "                                   verbose=1,\n",
    "                                   random_state=RANDOM_STATE)\n",
    "\n",
    "# fit RandomizedSearchCV \n",
    "random_search.fit(X, y)\n",
    "\n",
    "# print best parameters \n",
    "print(\"Best parameters: \", random_search.best_params_)\n",
    "print(\"Best accuracy score: \", random_search.cv_results_['mean_test_accuracy'][random_search.best_index_])\n",
    "print(\"Best MCC score: \", random_search.cv_results_['mean_test_mcc'][random_search.best_index_])"
   ]
  },
  {
   "cell_type": "code",
   "execution_count": 49,
   "metadata": {},
   "outputs": [
    {
     "data": {
      "text/plain": [
       "['female_3_feature_gradboost_model.pkl']"
      ]
     },
     "execution_count": 49,
     "metadata": {},
     "output_type": "execute_result"
    }
   ],
   "source": [
    "# best estimator from the grid search\n",
    "best_estimator = random_search.best_estimator_\n",
    "\n",
    "# save the model to a file\n",
    "joblib.dump(best_estimator, 'female_3_feature_gradboost_model.pkl')"
   ]
  },
  {
   "cell_type": "markdown",
   "metadata": {},
   "source": [
    "## Both Dataset"
   ]
  },
  {
   "cell_type": "markdown",
   "metadata": {},
   "source": [
    "### Both dataset - two features - Random Forest"
   ]
  },
  {
   "cell_type": "code",
   "execution_count": 54,
   "metadata": {},
   "outputs": [],
   "source": [
    "# drop cols\n",
    "both_X_train_scaled_2 = both_X_train_scaled.iloc[:, [2, 3]]\n",
    "\n",
    "# copy X, y\n",
    "X = both_X_train_scaled_2.copy()\n",
    "y = both_y_train.copy()"
   ]
  },
  {
   "cell_type": "code",
   "execution_count": 56,
   "metadata": {},
   "outputs": [
    {
     "name": "stdout",
     "output_type": "stream",
     "text": [
      "Fitting 5 folds for each of 100 candidates, totalling 500 fits\n",
      "Best parameters:  {'subsample': 0.4, 'n_estimators': 100, 'min_samples_split': 15, 'min_samples_leaf': 1, 'max_leaf_nodes': None, 'max_features': 'sqrt', 'max_depth': 5, 'learning_rate': 0.01}\n",
      "Best accuracy score:  0.8048239895697524\n",
      "Best MCC score:  0.5992459582168063\n"
     ]
    }
   ],
   "source": [
    "\n",
    "\n",
    "# parameter distributions\n",
    "param_distributions = {\n",
    "    'n_estimators': [50, 100, 200, 300, 500],\n",
    "    'max_depth': [3, 5, 7, 9],\n",
    "    'min_samples_split': [2, 5, 10, 15],\n",
    "    'min_samples_leaf': [1, 2, 4],\n",
    "    'max_features': ['sqrt', 'log2', None],\n",
    "    'learning_rate': [0.01, 0.05, 0.1, 0.2],\n",
    "    'subsample': [0.4, 0.6, 0.8, 1.0],\n",
    "    'max_leaf_nodes': [10, 20, 30, 40, None]\n",
    "}\n",
    "\n",
    "#  scorer for MCC\n",
    "mcc_scorer = make_scorer(matthews_corrcoef)\n",
    "\n",
    "# Gradient Boosting Classifier\n",
    "gbc = GradientBoostingClassifier(random_state=RANDOM_STATE)\n",
    "\n",
    "# RandomizedSearchCV \n",
    "random_search = RandomizedSearchCV(estimator=gbc,\n",
    "                                   param_distributions=param_distributions,\n",
    "                                   scoring={'accuracy': 'accuracy', 'mcc': mcc_scorer},\n",
    "                                   refit='mcc',  # refit MCC metric\n",
    "                                   cv=5,\n",
    "                                   n_iter=100,\n",
    "                                   n_jobs=-1,\n",
    "                                   verbose=1,\n",
    "                                   random_state=RANDOM_STATE)\n",
    "\n",
    "# fit RandomizedSearchCV \n",
    "random_search.fit(X, y)\n",
    "\n",
    "# print best parameters \n",
    "print(\"Best parameters: \", random_search.best_params_)\n",
    "print(\"Best accuracy score: \", random_search.cv_results_['mean_test_accuracy'][random_search.best_index_])\n",
    "print(\"Best MCC score: \", random_search.cv_results_['mean_test_mcc'][random_search.best_index_])"
   ]
  },
  {
   "cell_type": "code",
   "execution_count": 57,
   "metadata": {},
   "outputs": [
    {
     "data": {
      "text/plain": [
       "['both_2_feature_gradboost_model.pkl']"
      ]
     },
     "execution_count": 57,
     "metadata": {},
     "output_type": "execute_result"
    }
   ],
   "source": [
    "# best estimator from the grid search\n",
    "best_estimator = random_search.best_estimator_\n",
    "\n",
    "# save the model to a file\n",
    "joblib.dump(best_estimator, 'both_2_feature_gradboost_model.pkl')"
   ]
  },
  {
   "cell_type": "markdown",
   "metadata": {},
   "source": [
    "### Both dataset - three features - Gradient Boosting"
   ]
  },
  {
   "cell_type": "code",
   "execution_count": 58,
   "metadata": {},
   "outputs": [],
   "source": [
    "# drop cols\n",
    "both_X_train_scaled_3 = both_X_train_scaled.iloc[:, [2, 3, 6]]\n",
    "\n",
    "# copy X, y\n",
    "X = both_X_train_scaled_3.copy()\n",
    "y = both_y_train.copy()"
   ]
  },
  {
   "cell_type": "code",
   "execution_count": 59,
   "metadata": {},
   "outputs": [
    {
     "name": "stdout",
     "output_type": "stream",
     "text": [
      "Fitting 5 folds for each of 100 candidates, totalling 500 fits\n"
     ]
    },
    {
     "name": "stdout",
     "output_type": "stream",
     "text": [
      "Best parameters:  {'n_estimators': 500, 'min_samples_split': 2, 'min_samples_leaf': 2, 'max_leaf_nodes': 20, 'max_features': 'log2', 'max_depth': 7, 'criterion': 'gini', 'bootstrap': True}\n",
      "Best accuracy score:  0.8285528031290743\n",
      "Best MCC score:  0.6474264277249798\n"
     ]
    }
   ],
   "source": [
    "\n",
    "from sklearn.ensemble import RandomForestClassifier\n",
    "\n",
    "\n",
    "# parameter distributions\n",
    "param_distributions = {\n",
    "    'n_estimators': [100, 200, 300, 500, 1000],\n",
    "    'max_depth': [3, 5, 7, 9, None],\n",
    "    'min_samples_split': [2, 5, 10],\n",
    "    'min_samples_leaf': [1, 2, 4, 8],\n",
    "    'max_features': ['sqrt', 'log2', None],\n",
    "    'bootstrap': [True, False],\n",
    "    'criterion': ['gini', 'entropy'],\n",
    "    'max_leaf_nodes': [5, 8, 10, 20, 30, None]\n",
    "}\n",
    "\n",
    "# scorer for MCC\n",
    "mcc_scorer = make_scorer(matthews_corrcoef)\n",
    "\n",
    "# rf Classifier\n",
    "rf_clf = RandomForestClassifier(random_state=RANDOM_STATE)\n",
    "\n",
    "# RandomizedSearchCV object\n",
    "random_search = RandomizedSearchCV(estimator=rf_clf,\n",
    "                                   param_distributions=param_distributions,\n",
    "                                   scoring={'accuracy': 'accuracy', 'mcc': mcc_scorer},\n",
    "                                   refit='mcc',  # refit mcc\n",
    "                                   cv=5,\n",
    "                                   n_iter=100,\n",
    "                                   n_jobs=-1,\n",
    "                                   verbose=1,\n",
    "                                   random_state=RANDOM_STATE)\n",
    "\n",
    "# fit \n",
    "random_search.fit(X, y)\n",
    "\n",
    "# print best parameters\n",
    "print(\"Best parameters: \", random_search.best_params_)\n",
    "print(\"Best accuracy score: \", random_search.cv_results_['mean_test_accuracy'][random_search.best_index_])\n",
    "print(\"Best MCC score: \", random_search.cv_results_['mean_test_mcc'][random_search.best_index_])"
   ]
  },
  {
   "cell_type": "code",
   "execution_count": 60,
   "metadata": {},
   "outputs": [
    {
     "data": {
      "text/plain": [
       "['both_3_feature_rf_model.pkl']"
      ]
     },
     "execution_count": 60,
     "metadata": {},
     "output_type": "execute_result"
    }
   ],
   "source": [
    "# best estimator from the grid search\n",
    "best_estimator = random_search.best_estimator_\n",
    "\n",
    "# save the model to a file\n",
    "joblib.dump(best_estimator, 'both_3_feature_rf_model.pkl')"
   ]
  }
 ],
 "metadata": {
  "kernelspec": {
   "display_name": "igp5_env",
   "language": "python",
   "name": "python3"
  },
  "language_info": {
   "codemirror_mode": {
    "name": "ipython",
    "version": 3
   },
   "file_extension": ".py",
   "mimetype": "text/x-python",
   "name": "python",
   "nbconvert_exporter": "python",
   "pygments_lexer": "ipython3",
   "version": "3.9.18"
  }
 },
 "nbformat": 4,
 "nbformat_minor": 2
}
