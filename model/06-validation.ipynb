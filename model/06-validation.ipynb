{
 "cells": [
  {
   "cell_type": "markdown",
   "metadata": {},
   "source": [
    "# IGP 5 Models - Validate Final Models\n",
    "\n"
   ]
  },
  {
   "cell_type": "code",
   "execution_count": 28,
   "metadata": {},
   "outputs": [
    {
     "name": "stdout",
     "output_type": "stream",
     "text": [
      "Requirement already satisfied: scikit-learn==1.4.2 in /usr/local/python/3.10.13/lib/python3.10/site-packages (1.4.2)\n",
      "Requirement already satisfied: numpy>=1.19.5 in /home/codespace/.local/lib/python3.10/site-packages (from scikit-learn==1.4.2) (1.26.4)\n",
      "Requirement already satisfied: scipy>=1.6.0 in /home/codespace/.local/lib/python3.10/site-packages (from scikit-learn==1.4.2) (1.13.0)\n",
      "Requirement already satisfied: joblib>=1.2.0 in /home/codespace/.local/lib/python3.10/site-packages (from scikit-learn==1.4.2) (1.3.2)\n",
      "Requirement already satisfied: threadpoolctl>=2.0.0 in /home/codespace/.local/lib/python3.10/site-packages (from scikit-learn==1.4.2) (3.4.0)\n"
     ]
    }
   ],
   "source": [
    "#!pip install --upgrade scikit-learn==1.4.2"
   ]
  },
  {
   "cell_type": "code",
   "execution_count": 3,
   "metadata": {},
   "outputs": [],
   "source": [
    "# load functions in python file with magic command\n",
    "%run ../code/final-model.py\n",
    "\n",
    "output_csv_path = '../output/'"
   ]
  },
  {
   "cell_type": "code",
   "execution_count": 10,
   "metadata": {},
   "outputs": [],
   "source": [
    "# read validation from csv\n",
    "male_X_valid_scaled = pd.read_csv(output_csv_path + 'male_X_valid_scaled.csv')\n",
    "male_y_valid = pd.read_csv(output_csv_path + 'male_y_valid.csv').iloc[:, 0]\n",
    "female_X_valid_scaled = pd.read_csv(output_csv_path + 'female_X_valid_scaled.csv')\n",
    "female_y_valid = pd.read_csv(output_csv_path + 'female_y_valid.csv').iloc[:, 0]\n",
    "both_X_valid_scaled = pd.read_csv(output_csv_path + 'both_X_valid_scaled.csv')\n",
    "both_y_valid = pd.read_csv(output_csv_path + 'both_y_valid.csv').iloc[:, 0]"
   ]
  },
  {
   "cell_type": "code",
   "execution_count": 11,
   "metadata": {},
   "outputs": [],
   "source": [
    "# drop features to match models\n",
    "male_X_valid_scaled_2 = male_X_valid_scaled.iloc[:, [2, 3]]\n",
    "male_X_valid_scaled_3 = male_X_valid_scaled.iloc[:, [2, 3,9]]\n",
    "female_X_valid_scaled_2 = female_X_valid_scaled.iloc[:, [2, 3]]\n",
    "female_X_valid_scaled_3 = female_X_valid_scaled.iloc[:, [2, 3, 5]]\n",
    "both_X_valid_scaled_2 = both_X_valid_scaled.iloc[:, [2, 3]]\n",
    "both_X_valid_scaled_3 = both_X_valid_scaled.iloc[:, [2, 3, 6]]"
   ]
  },
  {
   "cell_type": "code",
   "execution_count": 29,
   "metadata": {},
   "outputs": [],
   "source": [
    "# load models\n",
    "male_2_model = joblib.load('male_2_feature_lgbm_model.pkl')\n",
    "male_3_model = joblib.load('male_3_feature_svc_model.pkl')\n",
    "female_2_model = joblib.load('female_2_feature_gradboost_model.pkl')\n",
    "female_3_model = joblib.load('female_3_feature_gradboost_model.pkl')\n",
    "both_2_model = joblib.load('both_2_feature_gradboost_model.pkl')\n",
    "both_3_model = joblib.load('both_3_feature_rf_model.pkl')\n"
   ]
  },
  {
   "cell_type": "code",
   "execution_count": 32,
   "metadata": {},
   "outputs": [],
   "source": [
    "# models and validation data\n",
    "models = [\n",
    "    ('male_2', male_2_model, male_X_valid_scaled_2, male_y_valid),\n",
    "    ('male_3', male_3_model, male_X_valid_scaled_3, male_y_valid),\n",
    "    ('female_2', female_2_model, female_X_valid_scaled_2, female_y_valid),\n",
    "    ('female_3', female_3_model, female_X_valid_scaled_3, female_y_valid),\n",
    "    ('both_2', both_2_model, both_X_valid_scaled_2, both_y_valid),\n",
    "    ('both_3', both_3_model, both_X_valid_scaled_3, both_y_valid)\n",
    "]"
   ]
  },
  {
   "cell_type": "code",
   "execution_count": 33,
   "metadata": {},
   "outputs": [
    {
     "name": "stdout",
     "output_type": "stream",
     "text": [
      "[LightGBM] [Warning] feature_fraction is set=1.0, colsample_bytree=1.0 will be ignored. Current value: feature_fraction=1.0\n",
      "[LightGBM] [Warning] min_data_in_leaf is set=30, min_child_samples=20 will be ignored. Current value: min_data_in_leaf=30\n",
      "[LightGBM] [Warning] bagging_fraction is set=0.8, subsample=1.0 will be ignored. Current value: bagging_fraction=0.8\n",
      "male_2 Model:\n",
      "Accuracy: 0.7660\n",
      "F1 Score: 0.8070\n",
      "MCC: 0.5723\n",
      "\n",
      "male_3 Model:\n",
      "Accuracy: 0.8511\n",
      "F1 Score: 0.8679\n",
      "MCC: 0.7172\n",
      "\n",
      "female_2 Model:\n",
      "Accuracy: 0.7414\n",
      "F1 Score: 0.5946\n",
      "MCC: 0.4094\n",
      "\n",
      "female_3 Model:\n",
      "Accuracy: 0.8621\n",
      "F1 Score: 0.7778\n",
      "MCC: 0.6885\n",
      "\n",
      "both_2 Model:\n",
      "Accuracy: 0.7308\n",
      "F1 Score: 0.6818\n",
      "MCC: 0.4485\n",
      "\n",
      "both_3 Model:\n",
      "Accuracy: 0.7500\n",
      "F1 Score: 0.7045\n",
      "MCC: 0.4879\n",
      "\n"
     ]
    }
   ],
   "source": [
    "#from sklearn.metrics import accuracy_score, f1_score, matthews_corrcoef\n",
    "\n",
    "\n",
    "\n",
    "# predictions and  metrics\n",
    "for model_name, model, X_valid, y_valid in models:\n",
    "    preds = model.predict(X_valid)\n",
    "    accuracy = accuracy_score(y_valid, preds)\n",
    "    f1 = f1_score(y_valid, preds)\n",
    "    mcc = matthews_corrcoef(y_valid, preds)\n",
    "    \n",
    "    print(f\"{model_name} Model:\")\n",
    "    print(f\"Accuracy: {accuracy:.4f}\")\n",
    "    print(f\"F1 Score: {f1:.4f}\")\n",
    "    print(f\"MCC: {mcc:.4f}\")\n",
    "    print()"
   ]
  }
 ],
 "metadata": {
  "kernelspec": {
   "display_name": "Python 3",
   "language": "python",
   "name": "python3"
  },
  "language_info": {
   "codemirror_mode": {
    "name": "ipython",
    "version": 3
   },
   "file_extension": ".py",
   "mimetype": "text/x-python",
   "name": "python",
   "nbconvert_exporter": "python",
   "pygments_lexer": "ipython3",
   "version": "3.10.13"
  }
 },
 "nbformat": 4,
 "nbformat_minor": 2
}
